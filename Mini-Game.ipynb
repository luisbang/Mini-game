{
 "cells": [
  {
   "cell_type": "code",
   "execution_count": 158,
   "metadata": {},
   "outputs": [
    {
     "name": "stdout",
     "output_type": "stream",
     "text": [
      "Choose one of them: charmander\n",
      "You choose Charmander\n",
      "Your oponent choose Squirtle\n"
     ]
    }
   ],
   "source": [
    "import random\n",
    "\n",
    "\n",
    "\n",
    "class Pokemon:\n",
    "    def __init__(self,health=100,mana=100):\n",
    "        self.health=health\n",
    "        self.mana=mana\n",
    "        \n",
    "    def attack(self):\n",
    "        print(f'{self.especie} attacou')\n",
    "        \n",
    "        \n",
    "class Charmander(Pokemon):\n",
    "    def __init__(self,health=100,mana=100):\n",
    "        super().__init__(health,mana)\n",
    "        self.especie='Charmander'\n",
    "            \n",
    "    def fireball(self):\n",
    "        print('Charmander fireballed')\n",
    "        self.mana=self.mana-15\n",
    "        print(f'you used 15 mana, MANA LEFT {self.mana}')\n",
    "    \n",
    "    def armor_batalha(self, oponent_pokemon):\n",
    "        if oponent_pokemon.especie=='Bulbasaur':\n",
    "            print('ataque do charmander')\n",
    "            oponent_pokemon.health=oponent_pokemon.health-15\n",
    "        if oponent_pokemon.especie=='Squartile':\n",
    "            print('ataque do charmander')\n",
    "            oponent_pokemon.health=oponent_pokemon.health-15\n",
    "        \n",
    "\n",
    "class Bulbasaur(Pokemon):\n",
    "    def __init__(self,health=100,mana=100):\n",
    "        super().__init__(health,mana)\n",
    "        self.especie='Bulbasaur'\n",
    "    \n",
    "    def leafleaf(self):\n",
    "        print('Bulbasaur leaf leaf')\n",
    "        self.mana=self.mana-15\n",
    "        print(f'you used 15 mana, MANA LEFT {self.mana}')\n",
    "    \n",
    "    def armor_batalha(self, oponent_pokemon):\n",
    "        if oponent_pokemon.especie=='Charmander':\n",
    "            print('ataque do Bulbasaur')\n",
    "            oponent_pokemon.health=oponent_pokemon.health-15\n",
    "        if oponent_pokemon.especie=='Squartile':\n",
    "            print('ataque do Bulbasaur')\n",
    "            oponent_pokemon.health=oponent_pokemon.health-15\n",
    "    \n",
    "class Squirtle(Pokemon):\n",
    "    def __init__(self,health=100,mana=100):\n",
    "        super().__init__(health,mana)\n",
    "        self.especie='Squirtle'\n",
    "    \n",
    "    def waterfall(self):\n",
    "        print('Squirtle waterfalled')\n",
    "        self.mana=self.mana-15\n",
    "        print(f'you used 15 mana, MANA LEFT {self.mana}')\n",
    "    \n",
    "    def armor_batalha(self, oponent_pokemon):\n",
    "        if oponent_pokemon.especie=='Charmander':\n",
    "            print('ataque do Squirtle')\n",
    "            oponent_pokemon.health=oponent_pokemon.health-15\n",
    "        if oponent_pokemon.especie=='Bulbasaur':\n",
    "            print('ataque do Squirtle')\n",
    "            oponent_pokemon.health=oponent_pokemon.health-15\n",
    "\n",
    "pokemon={'Bulbasaur':Bulbasaur(),'Charmander':Charmander(),'Squirtle':Squirtle()}\n",
    "\n",
    "your_pokemon1=input('Choose one of them: ').lower().capitalize().strip()\n",
    "print(f'You choose {your_pokemon1}')\n",
    "your_pokemon=pokemon[your_pokemon1]\n",
    "\n",
    "pokemon.pop(your_pokemon1)\n",
    "oponent_pokemon1, oponent_pokemon = random.choice(list(pokemon.items()))\n",
    "\n",
    "print(f'Your oponent choose {oponent_pokemon1}')  \n",
    "            \n",
    "\n",
    "            \n",
    "#while True:\n",
    "#    a=int(input('chose your type of attack'))\n",
    "#    if a==1:\n",
    "#        x.attack()\n",
    "#    if a==2:\n",
    "#        x.fireball()\n",
    "#    if a==99:\n",
    "#        break\n",
    "        \n"
   ]
  },
  {
   "cell_type": "code",
   "execution_count": 141,
   "metadata": {},
   "outputs": [
    {
     "name": "stdout",
     "output_type": "stream",
     "text": [
      "Charmander fireballed\n",
      "you used 15 mana, MANA LEFT 85\n"
     ]
    }
   ],
   "source": [
    "your_pokemon.fireball()"
   ]
  },
  {
   "cell_type": "code",
   "execution_count": 160,
   "metadata": {},
   "outputs": [],
   "source": [
    "your_pokemon.armor_batalha(oponent_pokemon)"
   ]
  },
  {
   "cell_type": "code",
   "execution_count": 161,
   "metadata": {},
   "outputs": [
    {
     "name": "stdout",
     "output_type": "stream",
     "text": [
      "ataque do Squirtle\n"
     ]
    }
   ],
   "source": [
    "oponent_pokemon.armor_batalha(your_pokemon)"
   ]
  },
  {
   "cell_type": "code",
   "execution_count": 163,
   "metadata": {},
   "outputs": [
    {
     "data": {
      "text/plain": [
       "85"
      ]
     },
     "execution_count": 163,
     "metadata": {},
     "output_type": "execute_result"
    }
   ],
   "source": [
    "your_pokemon.health"
   ]
  },
  {
   "cell_type": "code",
   "execution_count": 164,
   "metadata": {},
   "outputs": [
    {
     "data": {
      "text/plain": [
       "100"
      ]
     },
     "execution_count": 164,
     "metadata": {},
     "output_type": "execute_result"
    }
   ],
   "source": [
    "oponent_pokemon.health"
   ]
  },
  {
   "cell_type": "code",
   "execution_count": 37,
   "metadata": {},
   "outputs": [
    {
     "data": {
      "text/plain": [
       "{'health': 100, 'mana': 100, 'armor': 50, 'especie': 'Charmander'}"
      ]
     },
     "execution_count": 37,
     "metadata": {},
     "output_type": "execute_result"
    }
   ],
   "source": [
    "your_pokemon.__dict__"
   ]
  },
  {
   "cell_type": "code",
   "execution_count": 121,
   "metadata": {},
   "outputs": [
    {
     "name": "stdout",
     "output_type": "stream",
     "text": [
      "Squirtle attacou\n"
     ]
    }
   ],
   "source": [
    "your_pokemon.attack()"
   ]
  },
  {
   "cell_type": "code",
   "execution_count": 69,
   "metadata": {},
   "outputs": [
    {
     "data": {
      "text/plain": [
       "100"
      ]
     },
     "execution_count": 69,
     "metadata": {},
     "output_type": "execute_result"
    }
   ],
   "source": [
    "your_pokemon.health"
   ]
  },
  {
   "cell_type": "code",
   "execution_count": null,
   "metadata": {},
   "outputs": [],
   "source": []
  }
 ],
 "metadata": {
  "kernelspec": {
   "display_name": "Python 3",
   "language": "python",
   "name": "python3"
  },
  "language_info": {
   "codemirror_mode": {
    "name": "ipython",
    "version": 3
   },
   "file_extension": ".py",
   "mimetype": "text/x-python",
   "name": "python",
   "nbconvert_exporter": "python",
   "pygments_lexer": "ipython3",
   "version": "3.8.5"
  }
 },
 "nbformat": 4,
 "nbformat_minor": 4
}
